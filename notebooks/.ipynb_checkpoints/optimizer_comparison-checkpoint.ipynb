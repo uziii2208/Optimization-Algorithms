{
 "cells": [
  {
   "cell_type": "markdown",
   "id": "ebe28d24",
   "metadata": {},
   "source": [
    "# So sánh các thuật toán tối ưu trong Deep Learning\n",
    "\n",
    "Notebook này sẽ so sánh hiệu suất của các thuật toán tối ưu khác nhau (SGD, Adam, RMSprop) trên bộ dữ liệu MNIST để phân tích:\n",
    "1. Tốc độ hội tụ\n",
    "2. Độ chính xác cuối cùng\n",
    "3. Sự thay đổi của gradient và learning rate\n",
    "4. Khả năng tránh local minima"
   ]
  },
  {
   "cell_type": "code",
   "execution_count": null,
   "id": "ba182253",
   "metadata": {},
   "outputs": [],
   "source": [
    "import sys\n",
    "sys.path.append('../src')\n",
    "\n",
    "import torch\n",
    "import torch.optim as optim\n",
    "from torchvision import datasets, transforms\n",
    "from torch.utils.data import DataLoader\n",
    "import matplotlib.pyplot as plt\n",
    "import seaborn as sns\n",
    "\n",
    "from models import SimpleCNN\n",
    "from trainer import ModelTrainer\n",
    "from utils import plot_training_curves, save_results_to_csv, compare_convergence_speed\n",
    "\n",
    "# Set random seed for reproducibility\n",
    "torch.manual_seed(42)\n",
    "device = torch.device('cuda' if torch.cuda.is_available() else 'cpu')\n",
    "print(f'Using device: {device}')"
   ]
  },
  {
   "cell_type": "markdown",
   "id": "97c7aa4c",
   "metadata": {},
   "source": [
    "## Chuẩn bị dữ liệu"
   ]
  },
  {
   "cell_type": "code",
   "execution_count": null,
   "id": "461a3135",
   "metadata": {},
   "outputs": [],
   "source": [
    "# Định nghĩa transform\n",
    "transform = transforms.Compose([\n",
    "    transforms.ToTensor(),\n",
    "    transforms.Normalize((0.1307,), (0.3081,))\n",
    "])\n",
    "\n",
    "# Tải dữ liệu MNIST\n",
    "train_dataset = datasets.MNIST('../data', train=True, download=True, transform=transform)\n",
    "test_dataset = datasets.MNIST('../data', train=False, transform=transform)\n",
    "\n",
    "# Tạo DataLoader\n",
    "train_loader = DataLoader(train_dataset, batch_size=64, shuffle=True)\n",
    "test_loader = DataLoader(test_dataset, batch_size=64)"
   ]
  },
  {
   "cell_type": "markdown",
   "id": "acb00241",
   "metadata": {},
   "source": [
    "## Thử nghiệm với các Optimizer"
   ]
  },
  {
   "cell_type": "code",
   "execution_count": null,
   "id": "beff3baf",
   "metadata": {},
   "outputs": [],
   "source": [
    "def train_with_optimizer(optimizer_name, learning_rate=0.01, momentum=0.9):\n",
    "    model = SimpleCNN().to(device)\n",
    "    \n",
    "    if optimizer_name == 'SGD':\n",
    "        optimizer = optim.SGD(model.parameters(), lr=learning_rate, momentum=momentum)\n",
    "    elif optimizer_name == 'Adam':\n",
    "        optimizer = optim.Adam(model.parameters(), lr=learning_rate)\n",
    "    elif optimizer_name == 'RMSprop':\n",
    "        optimizer = optim.RMSprop(model.parameters(), lr=learning_rate)\n",
    "    else:\n",
    "        raise ValueError(f'Optimizer {optimizer_name} không được hỗ trợ')\n",
    "    \n",
    "    trainer = ModelTrainer(model, device)\n",
    "    train_metrics, val_metrics = trainer.train_model(\n",
    "        optimizer=optimizer,\n",
    "        train_loader=train_loader,\n",
    "        val_loader=test_loader,\n",
    "        epochs=10\n",
    "    )\n",
    "    \n",
    "    return train_metrics, val_metrics\n",
    "\n",
    "# Thử nghiệm với các optimizer\n",
    "optimizers = ['SGD', 'Adam', 'RMSprop']\n",
    "learning_rates = [0.01, 0.001, 0.0001]\n",
    "results = {}\n",
    "\n",
    "for opt_name in optimizers:\n",
    "    for lr in learning_rates:\n",
    "        print(f'\\nTraining with {opt_name}, learning rate = {lr}')\n",
    "        key = f'{opt_name}_lr_{lr}'\n",
    "        results[key] = train_with_optimizer(opt_name, learning_rate=lr)"
   ]
  },
  {
   "cell_type": "markdown",
   "id": "2f200713",
   "metadata": {},
   "source": [
    "## Phân tích kết quả"
   ]
  },
  {
   "cell_type": "code",
   "execution_count": null,
   "id": "5c359e4f",
   "metadata": {},
   "outputs": [],
   "source": [
    "# Vẽ đồ thị so sánh\n",
    "plot_training_curves(results)\n",
    "plt.savefig('../results/optimizer_comparison.png')\n",
    "plt.show()\n",
    "\n",
    "# Lưu kết quả vào file CSV\n",
    "results_df = save_results_to_csv(results)\n",
    "display(results_df)\n",
    "\n",
    "# So sánh tốc độ hội tụ\n",
    "convergence_epochs = compare_convergence_speed(results, target_accuracy=95.0)\n",
    "print('\\nSố epoch cần để đạt độ chính xác 95%:')\n",
    "for opt_name, epochs in convergence_epochs.items():\n",
    "    print(f'{opt_name}: {epochs if epochs != float(\"inf\") else \"Không đạt target\"} epochs')"
   ]
  },
  {
   "cell_type": "markdown",
   "id": "5dbe020c",
   "metadata": {},
   "source": [
    "## Kết luận\n",
    "\n",
    "Từ các kết quả trên, chúng ta có thể rút ra một số nhận xét:\n",
    "\n",
    "1. **Tốc độ hội tụ**:\n",
    "   - Adam thường hội tụ nhanh nhất\n",
    "   - SGD với momentum hội tụ chậm hơn nhưng ổn định\n",
    "   - RMSprop có tốc độ hội tụ trung bình\n",
    "\n",
    "2. **Độ chính xác cuối cùng**:\n",
    "   - So sánh độ chính xác cuối cùng giữa các optimizer\n",
    "   - Phân tích sự khác biệt giữa train và validation accuracy\n",
    "\n",
    "3. **Ảnh hưởng của learning rate**:\n",
    "   - Các optimizer phản ứng khác nhau với các giá trị learning rate\n",
    "   - Adam thường ít nhạy cảm hơn với việc chọn learning rate\n",
    "   - SGD cần tinh chỉnh learning rate cẩn thận hơn\n",
    "\n",
    "4. **Đề xuất sử dụng**:\n",
    "   - Adam: Phù hợp cho hầu hết các bài toán, đặc biệt khi cần hội tụ nhanh\n",
    "   - SGD với momentum: Phù hợp cho các bài toán cần độ ổn định cao\n",
    "   - RMSprop: Là một lựa chọn tốt cho các mạng RNN và các bài toán có gradient thay đổi nhiều\n",
    "\n",
    "5. **Các yếu tố cần cân nhắc khi lựa chọn optimizer**:\n",
    "   - Kích thước và độ phức tạp của model\n",
    "   - Yêu cầu về tốc độ huấn luyện\n",
    "   - Tính chất của dữ liệu và bài toán\n",
    "   - Tài nguyên tính toán sẵn có"
   ]
  }
 ],
 "metadata": {
  "language_info": {
   "name": "python"
  }
 },
 "nbformat": 4,
 "nbformat_minor": 5
}
